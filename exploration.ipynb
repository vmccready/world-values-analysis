{
 "cells": [
  {
   "cell_type": "markdown",
   "id": "miniature-america",
   "metadata": {},
   "source": [
    "# World Values Survey Data"
   ]
  },
  {
   "cell_type": "markdown",
   "id": "athletic-secondary",
   "metadata": {},
   "source": [
    "## EDA"
   ]
  },
  {
   "cell_type": "code",
   "execution_count": 1,
   "id": "equal-flush",
   "metadata": {},
   "outputs": [],
   "source": [
    "import numpy as np\n",
    "import pandas as pd\n",
    "import matplotlib.pyplot as plt"
   ]
  },
  {
   "cell_type": "code",
   "execution_count": 2,
   "id": "portuguese-massage",
   "metadata": {},
   "outputs": [
    {
     "name": "stdout",
     "output_type": "stream",
     "text": [
      "Warning: column count mismatch (76 + 255 != 547)\n",
      "\n"
     ]
    }
   ],
   "source": [
    "data = pd.read_sas('data/WVS_CrossNat_W7_v1_6.sas7bdat', format='sas7bdat')"
   ]
  },
  {
   "cell_type": "code",
   "execution_count": 3,
   "id": "tracked-ottawa",
   "metadata": {},
   "outputs": [
    {
     "data": {
      "text/html": [
       "<div>\n",
       "<style scoped>\n",
       "    .dataframe tbody tr th:only-of-type {\n",
       "        vertical-align: middle;\n",
       "    }\n",
       "\n",
       "    .dataframe tbody tr th {\n",
       "        vertical-align: top;\n",
       "    }\n",
       "\n",
       "    .dataframe thead th {\n",
       "        text-align: right;\n",
       "    }\n",
       "</style>\n",
       "<table border=\"1\" class=\"dataframe\">\n",
       "  <thead>\n",
       "    <tr style=\"text-align: right;\">\n",
       "      <th></th>\n",
       "      <th>A_WAVE</th>\n",
       "      <th>A_STUDY</th>\n",
       "      <th>B_COUNTRY</th>\n",
       "      <th>C_COW_NUM</th>\n",
       "      <th>A_YEAR</th>\n",
       "      <th>D_INTERVIEW</th>\n",
       "      <th>J_INTDATE</th>\n",
       "      <th>FW_END</th>\n",
       "      <th>FW_START</th>\n",
       "      <th>K_TIME_START</th>\n",
       "      <th>...</th>\n",
       "      <th>WVS_Polmistrust_PartyVoter</th>\n",
       "      <th>WVS_LR_MedianVoter</th>\n",
       "      <th>WVS_LibCon_MedianVoter</th>\n",
       "      <th>v2psbars</th>\n",
       "      <th>v2psorgs</th>\n",
       "      <th>v2psprbrch</th>\n",
       "      <th>v2psprlnks</th>\n",
       "      <th>v2psplats</th>\n",
       "      <th>v2xnp_client</th>\n",
       "      <th>v2xps_party</th>\n",
       "    </tr>\n",
       "  </thead>\n",
       "  <tbody>\n",
       "    <tr>\n",
       "      <th>count</th>\n",
       "      <td>70867.0</td>\n",
       "      <td>70867.0</td>\n",
       "      <td>70867.000000</td>\n",
       "      <td>70867.000000</td>\n",
       "      <td>70867.000000</td>\n",
       "      <td>7.086700e+04</td>\n",
       "      <td>6.798700e+04</td>\n",
       "      <td>70867.000000</td>\n",
       "      <td>70867.000000</td>\n",
       "      <td>59231.000000</td>\n",
       "      <td>...</td>\n",
       "      <td>29793.000000</td>\n",
       "      <td>18949.000000</td>\n",
       "      <td>18949.000000</td>\n",
       "      <td>18949.000000</td>\n",
       "      <td>18949.000000</td>\n",
       "      <td>18949.000000</td>\n",
       "      <td>18949.000000</td>\n",
       "      <td>18949.000000</td>\n",
       "      <td>18949.000000</td>\n",
       "      <td>18949.000000</td>\n",
       "    </tr>\n",
       "    <tr>\n",
       "      <th>mean</th>\n",
       "      <td>7.0</td>\n",
       "      <td>2.0</td>\n",
       "      <td>427.417134</td>\n",
       "      <td>514.574978</td>\n",
       "      <td>2018.356922</td>\n",
       "      <td>4.277022e+08</td>\n",
       "      <td>2.018323e+07</td>\n",
       "      <td>201839.059365</td>\n",
       "      <td>201823.025865</td>\n",
       "      <td>14.031349</td>\n",
       "      <td>...</td>\n",
       "      <td>66.543995</td>\n",
       "      <td>5.952974</td>\n",
       "      <td>7.401595</td>\n",
       "      <td>1.387780</td>\n",
       "      <td>1.454215</td>\n",
       "      <td>1.262951</td>\n",
       "      <td>0.602572</td>\n",
       "      <td>1.445392</td>\n",
       "      <td>0.436797</td>\n",
       "      <td>0.730929</td>\n",
       "    </tr>\n",
       "    <tr>\n",
       "      <th>std</th>\n",
       "      <td>0.0</td>\n",
       "      <td>0.0</td>\n",
       "      <td>248.622770</td>\n",
       "      <td>291.107448</td>\n",
       "      <td>0.955816</td>\n",
       "      <td>2.486329e+08</td>\n",
       "      <td>8.813118e+03</td>\n",
       "      <td>90.562074</td>\n",
       "      <td>89.629041</td>\n",
       "      <td>3.754853</td>\n",
       "      <td>...</td>\n",
       "      <td>9.055567</td>\n",
       "      <td>0.629833</td>\n",
       "      <td>1.451443</td>\n",
       "      <td>0.830643</td>\n",
       "      <td>0.741533</td>\n",
       "      <td>0.904170</td>\n",
       "      <td>1.117618</td>\n",
       "      <td>0.939847</td>\n",
       "      <td>0.231711</td>\n",
       "      <td>0.195485</td>\n",
       "    </tr>\n",
       "    <tr>\n",
       "      <th>min</th>\n",
       "      <td>7.0</td>\n",
       "      <td>2.0</td>\n",
       "      <td>20.000000</td>\n",
       "      <td>2.000000</td>\n",
       "      <td>2017.000000</td>\n",
       "      <td>2.007000e+07</td>\n",
       "      <td>2.017010e+07</td>\n",
       "      <td>201703.000000</td>\n",
       "      <td>201701.000000</td>\n",
       "      <td>0.000000</td>\n",
       "      <td>...</td>\n",
       "      <td>37.500000</td>\n",
       "      <td>4.740000</td>\n",
       "      <td>3.375000</td>\n",
       "      <td>-1.235000</td>\n",
       "      <td>-0.652000</td>\n",
       "      <td>-0.648000</td>\n",
       "      <td>-1.323000</td>\n",
       "      <td>-1.037000</td>\n",
       "      <td>0.034000</td>\n",
       "      <td>0.213000</td>\n",
       "    </tr>\n",
       "    <tr>\n",
       "      <th>25%</th>\n",
       "      <td>7.0</td>\n",
       "      <td>2.0</td>\n",
       "      <td>196.000000</td>\n",
       "      <td>160.000000</td>\n",
       "      <td>2018.000000</td>\n",
       "      <td>1.967009e+08</td>\n",
       "      <td>2.018020e+07</td>\n",
       "      <td>201805.000000</td>\n",
       "      <td>201801.000000</td>\n",
       "      <td>11.300000</td>\n",
       "      <td>...</td>\n",
       "      <td>59.720799</td>\n",
       "      <td>5.420000</td>\n",
       "      <td>6.512500</td>\n",
       "      <td>0.718000</td>\n",
       "      <td>1.158000</td>\n",
       "      <td>0.737000</td>\n",
       "      <td>-0.398000</td>\n",
       "      <td>1.052000</td>\n",
       "      <td>0.302000</td>\n",
       "      <td>0.560000</td>\n",
       "    </tr>\n",
       "    <tr>\n",
       "      <th>50%</th>\n",
       "      <td>7.0</td>\n",
       "      <td>2.0</td>\n",
       "      <td>400.000000</td>\n",
       "      <td>640.000000</td>\n",
       "      <td>2018.000000</td>\n",
       "      <td>4.000706e+08</td>\n",
       "      <td>2.018072e+07</td>\n",
       "      <td>201808.000000</td>\n",
       "      <td>201806.000000</td>\n",
       "      <td>14.060000</td>\n",
       "      <td>...</td>\n",
       "      <td>66.810345</td>\n",
       "      <td>5.750000</td>\n",
       "      <td>7.665800</td>\n",
       "      <td>1.496000</td>\n",
       "      <td>1.494000</td>\n",
       "      <td>1.317000</td>\n",
       "      <td>0.582000</td>\n",
       "      <td>1.531000</td>\n",
       "      <td>0.471000</td>\n",
       "      <td>0.750000</td>\n",
       "    </tr>\n",
       "    <tr>\n",
       "      <th>75%</th>\n",
       "      <td>7.0</td>\n",
       "      <td>2.0</td>\n",
       "      <td>642.000000</td>\n",
       "      <td>740.000000</td>\n",
       "      <td>2019.000000</td>\n",
       "      <td>6.420702e+08</td>\n",
       "      <td>2.019071e+07</td>\n",
       "      <td>201906.000000</td>\n",
       "      <td>201905.000000</td>\n",
       "      <td>16.590000</td>\n",
       "      <td>...</td>\n",
       "      <td>72.763761</td>\n",
       "      <td>6.430000</td>\n",
       "      <td>8.286600</td>\n",
       "      <td>2.043000</td>\n",
       "      <td>1.916000</td>\n",
       "      <td>2.186000</td>\n",
       "      <td>0.943000</td>\n",
       "      <td>2.193000</td>\n",
       "      <td>0.611000</td>\n",
       "      <td>0.909000</td>\n",
       "    </tr>\n",
       "    <tr>\n",
       "      <th>max</th>\n",
       "      <td>7.0</td>\n",
       "      <td>2.0</td>\n",
       "      <td>840.000000</td>\n",
       "      <td>993.000000</td>\n",
       "      <td>2020.000000</td>\n",
       "      <td>8.400736e+08</td>\n",
       "      <td>2.020081e+07</td>\n",
       "      <td>202008.000000</td>\n",
       "      <td>202007.000000</td>\n",
       "      <td>23.580000</td>\n",
       "      <td>...</td>\n",
       "      <td>100.000000</td>\n",
       "      <td>7.260000</td>\n",
       "      <td>9.402100</td>\n",
       "      <td>2.483000</td>\n",
       "      <td>3.031000</td>\n",
       "      <td>3.237000</td>\n",
       "      <td>2.707000</td>\n",
       "      <td>2.836000</td>\n",
       "      <td>0.794000</td>\n",
       "      <td>0.999000</td>\n",
       "    </tr>\n",
       "  </tbody>\n",
       "</table>\n",
       "<p>8 rows × 538 columns</p>\n",
       "</div>"
      ],
      "text/plain": [
       "        A_WAVE  A_STUDY     B_COUNTRY     C_COW_NUM        A_YEAR  \\\n",
       "count  70867.0  70867.0  70867.000000  70867.000000  70867.000000   \n",
       "mean       7.0      2.0    427.417134    514.574978   2018.356922   \n",
       "std        0.0      0.0    248.622770    291.107448      0.955816   \n",
       "min        7.0      2.0     20.000000      2.000000   2017.000000   \n",
       "25%        7.0      2.0    196.000000    160.000000   2018.000000   \n",
       "50%        7.0      2.0    400.000000    640.000000   2018.000000   \n",
       "75%        7.0      2.0    642.000000    740.000000   2019.000000   \n",
       "max        7.0      2.0    840.000000    993.000000   2020.000000   \n",
       "\n",
       "        D_INTERVIEW     J_INTDATE         FW_END       FW_START  K_TIME_START  \\\n",
       "count  7.086700e+04  6.798700e+04   70867.000000   70867.000000  59231.000000   \n",
       "mean   4.277022e+08  2.018323e+07  201839.059365  201823.025865     14.031349   \n",
       "std    2.486329e+08  8.813118e+03      90.562074      89.629041      3.754853   \n",
       "min    2.007000e+07  2.017010e+07  201703.000000  201701.000000      0.000000   \n",
       "25%    1.967009e+08  2.018020e+07  201805.000000  201801.000000     11.300000   \n",
       "50%    4.000706e+08  2.018072e+07  201808.000000  201806.000000     14.060000   \n",
       "75%    6.420702e+08  2.019071e+07  201906.000000  201905.000000     16.590000   \n",
       "max    8.400736e+08  2.020081e+07  202008.000000  202007.000000     23.580000   \n",
       "\n",
       "       ...  WVS_Polmistrust_PartyVoter  WVS_LR_MedianVoter  \\\n",
       "count  ...                29793.000000        18949.000000   \n",
       "mean   ...                   66.543995            5.952974   \n",
       "std    ...                    9.055567            0.629833   \n",
       "min    ...                   37.500000            4.740000   \n",
       "25%    ...                   59.720799            5.420000   \n",
       "50%    ...                   66.810345            5.750000   \n",
       "75%    ...                   72.763761            6.430000   \n",
       "max    ...                  100.000000            7.260000   \n",
       "\n",
       "       WVS_LibCon_MedianVoter      v2psbars      v2psorgs    v2psprbrch  \\\n",
       "count            18949.000000  18949.000000  18949.000000  18949.000000   \n",
       "mean                 7.401595      1.387780      1.454215      1.262951   \n",
       "std                  1.451443      0.830643      0.741533      0.904170   \n",
       "min                  3.375000     -1.235000     -0.652000     -0.648000   \n",
       "25%                  6.512500      0.718000      1.158000      0.737000   \n",
       "50%                  7.665800      1.496000      1.494000      1.317000   \n",
       "75%                  8.286600      2.043000      1.916000      2.186000   \n",
       "max                  9.402100      2.483000      3.031000      3.237000   \n",
       "\n",
       "         v2psprlnks     v2psplats  v2xnp_client   v2xps_party  \n",
       "count  18949.000000  18949.000000  18949.000000  18949.000000  \n",
       "mean       0.602572      1.445392      0.436797      0.730929  \n",
       "std        1.117618      0.939847      0.231711      0.195485  \n",
       "min       -1.323000     -1.037000      0.034000      0.213000  \n",
       "25%       -0.398000      1.052000      0.302000      0.560000  \n",
       "50%        0.582000      1.531000      0.471000      0.750000  \n",
       "75%        0.943000      2.193000      0.611000      0.909000  \n",
       "max        2.707000      2.836000      0.794000      0.999000  \n",
       "\n",
       "[8 rows x 538 columns]"
      ]
     },
     "execution_count": 3,
     "metadata": {},
     "output_type": "execute_result"
    }
   ],
   "source": [
    "data.describe()"
   ]
  },
  {
   "cell_type": "code",
   "execution_count": 4,
   "id": "designed-flour",
   "metadata": {},
   "outputs": [
    {
     "name": "stdout",
     "output_type": "stream",
     "text": [
      "<class 'pandas.core.frame.DataFrame'>\n",
      "RangeIndex: 70867 entries, 0 to 70866\n",
      "Columns: 547 entries, version to v2xps_party\n",
      "dtypes: float64(538), object(9)\n",
      "memory usage: 295.7+ MB\n"
     ]
    }
   ],
   "source": [
    "data.info()"
   ]
  },
  {
   "cell_type": "code",
   "execution_count": 5,
   "id": "hourly-remove",
   "metadata": {},
   "outputs": [
    {
     "data": {
      "text/plain": [
       "version                  b'1-6-0 (2021-01-12)'\n",
       "doi                b'doi.org/10.14281/18241.1'\n",
       "A_WAVE                                     7.0\n",
       "A_STUDY                                    2.0\n",
       "B_COUNTRY                                 20.0\n",
       "B_COUNTRY_ALPHA                         b'AND'\n",
       "C_COW_NUM                                232.0\n",
       "C_COW_ALPHA                             b'AND'\n",
       "A_YEAR                                  2018.0\n",
       "D_INTERVIEW                         20070001.0\n",
       "Name: 0, dtype: object"
      ]
     },
     "execution_count": 5,
     "metadata": {},
     "output_type": "execute_result"
    }
   ],
   "source": [
    "data.iloc[0,:10]"
   ]
  },
  {
   "cell_type": "code",
   "execution_count": 20,
   "id": "willing-habitat",
   "metadata": {},
   "outputs": [
    {
     "data": {
      "text/plain": [
       "<AxesSubplot:>"
      ]
     },
     "execution_count": 20,
     "metadata": {},
     "output_type": "execute_result"
    },
    {
     "data": {
      "image/png": "[encoded data removed]",
      "text/plain": [
       "<Figure size 432x288 with 1 Axes>"
      ]
     },
     "metadata": {
      "needs_background": "light"
     },
     "output_type": "display_data"
    }
   ],
   "source": [
    "data['Q142'].hist(bins=20)"
   ]
  },
  {
   "cell_type": "code",
   "execution_count": 7,
   "id": "focal-absolute",
   "metadata": {},
   "outputs": [
    {
     "data": {
      "text/html": [
       "<div>\n",
       "<style scoped>\n",
       "    .dataframe tbody tr th:only-of-type {\n",
       "        vertical-align: middle;\n",
       "    }\n",
       "\n",
       "    .dataframe tbody tr th {\n",
       "        vertical-align: top;\n",
       "    }\n",
       "\n",
       "    .dataframe thead th {\n",
       "        text-align: right;\n",
       "    }\n",
       "</style>\n",
       "<table border=\"1\" class=\"dataframe\">\n",
       "  <thead>\n",
       "    <tr style=\"text-align: right;\">\n",
       "      <th></th>\n",
       "      <th>B_COUNTRY</th>\n",
       "      <th>C_COW_NUM</th>\n",
       "      <th>C_COW_ALPHA</th>\n",
       "      <th>A_YEAR</th>\n",
       "      <th>D_INTERVIEW</th>\n",
       "      <th>J_INTDATE</th>\n",
       "      <th>FW_END</th>\n",
       "      <th>FW_START</th>\n",
       "      <th>K_TIME_START</th>\n",
       "      <th>K_TIME_END</th>\n",
       "      <th>...</th>\n",
       "      <th>WVS_Polmistrust_PartyVoter</th>\n",
       "      <th>WVS_LR_MedianVoter</th>\n",
       "      <th>WVS_LibCon_MedianVoter</th>\n",
       "      <th>v2psbars</th>\n",
       "      <th>v2psorgs</th>\n",
       "      <th>v2psprbrch</th>\n",
       "      <th>v2psprlnks</th>\n",
       "      <th>v2psplats</th>\n",
       "      <th>v2xnp_client</th>\n",
       "      <th>v2xps_party</th>\n",
       "    </tr>\n",
       "  </thead>\n",
       "  <tbody>\n",
       "    <tr>\n",
       "      <th>0</th>\n",
       "      <td>20.0</td>\n",
       "      <td>232.0</td>\n",
       "      <td>b'AND'</td>\n",
       "      <td>2018.0</td>\n",
       "      <td>20070001.0</td>\n",
       "      <td>20180704.0</td>\n",
       "      <td>201809.0</td>\n",
       "      <td>201807.0</td>\n",
       "      <td>18.20</td>\n",
       "      <td>19.48</td>\n",
       "      <td>...</td>\n",
       "      <td>62.434211</td>\n",
       "      <td>NaN</td>\n",
       "      <td>NaN</td>\n",
       "      <td>NaN</td>\n",
       "      <td>NaN</td>\n",
       "      <td>NaN</td>\n",
       "      <td>NaN</td>\n",
       "      <td>NaN</td>\n",
       "      <td>NaN</td>\n",
       "      <td>NaN</td>\n",
       "    </tr>\n",
       "    <tr>\n",
       "      <th>1</th>\n",
       "      <td>20.0</td>\n",
       "      <td>232.0</td>\n",
       "      <td>b'AND'</td>\n",
       "      <td>2018.0</td>\n",
       "      <td>20070002.0</td>\n",
       "      <td>20180714.0</td>\n",
       "      <td>201809.0</td>\n",
       "      <td>201807.0</td>\n",
       "      <td>9.35</td>\n",
       "      <td>11.00</td>\n",
       "      <td>...</td>\n",
       "      <td>62.434211</td>\n",
       "      <td>NaN</td>\n",
       "      <td>NaN</td>\n",
       "      <td>NaN</td>\n",
       "      <td>NaN</td>\n",
       "      <td>NaN</td>\n",
       "      <td>NaN</td>\n",
       "      <td>NaN</td>\n",
       "      <td>NaN</td>\n",
       "      <td>NaN</td>\n",
       "    </tr>\n",
       "    <tr>\n",
       "      <th>2</th>\n",
       "      <td>20.0</td>\n",
       "      <td>232.0</td>\n",
       "      <td>b'AND'</td>\n",
       "      <td>2018.0</td>\n",
       "      <td>20070003.0</td>\n",
       "      <td>20180704.0</td>\n",
       "      <td>201809.0</td>\n",
       "      <td>201807.0</td>\n",
       "      <td>10.15</td>\n",
       "      <td>10.45</td>\n",
       "      <td>...</td>\n",
       "      <td>62.434211</td>\n",
       "      <td>NaN</td>\n",
       "      <td>NaN</td>\n",
       "      <td>NaN</td>\n",
       "      <td>NaN</td>\n",
       "      <td>NaN</td>\n",
       "      <td>NaN</td>\n",
       "      <td>NaN</td>\n",
       "      <td>NaN</td>\n",
       "      <td>NaN</td>\n",
       "    </tr>\n",
       "    <tr>\n",
       "      <th>3</th>\n",
       "      <td>20.0</td>\n",
       "      <td>232.0</td>\n",
       "      <td>b'AND'</td>\n",
       "      <td>2018.0</td>\n",
       "      <td>20070004.0</td>\n",
       "      <td>20180702.0</td>\n",
       "      <td>201809.0</td>\n",
       "      <td>201807.0</td>\n",
       "      <td>17.05</td>\n",
       "      <td>18.20</td>\n",
       "      <td>...</td>\n",
       "      <td>NaN</td>\n",
       "      <td>NaN</td>\n",
       "      <td>NaN</td>\n",
       "      <td>NaN</td>\n",
       "      <td>NaN</td>\n",
       "      <td>NaN</td>\n",
       "      <td>NaN</td>\n",
       "      <td>NaN</td>\n",
       "      <td>NaN</td>\n",
       "      <td>NaN</td>\n",
       "    </tr>\n",
       "    <tr>\n",
       "      <th>4</th>\n",
       "      <td>20.0</td>\n",
       "      <td>232.0</td>\n",
       "      <td>b'AND'</td>\n",
       "      <td>2018.0</td>\n",
       "      <td>20070005.0</td>\n",
       "      <td>20180708.0</td>\n",
       "      <td>201809.0</td>\n",
       "      <td>201807.0</td>\n",
       "      <td>10.20</td>\n",
       "      <td>11.48</td>\n",
       "      <td>...</td>\n",
       "      <td>66.964286</td>\n",
       "      <td>NaN</td>\n",
       "      <td>NaN</td>\n",
       "      <td>NaN</td>\n",
       "      <td>NaN</td>\n",
       "      <td>NaN</td>\n",
       "      <td>NaN</td>\n",
       "      <td>NaN</td>\n",
       "      <td>NaN</td>\n",
       "      <td>NaN</td>\n",
       "    </tr>\n",
       "    <tr>\n",
       "      <th>...</th>\n",
       "      <td>...</td>\n",
       "      <td>...</td>\n",
       "      <td>...</td>\n",
       "      <td>...</td>\n",
       "      <td>...</td>\n",
       "      <td>...</td>\n",
       "      <td>...</td>\n",
       "      <td>...</td>\n",
       "      <td>...</td>\n",
       "      <td>...</td>\n",
       "      <td>...</td>\n",
       "      <td>...</td>\n",
       "      <td>...</td>\n",
       "      <td>...</td>\n",
       "      <td>...</td>\n",
       "      <td>...</td>\n",
       "      <td>...</td>\n",
       "      <td>...</td>\n",
       "      <td>...</td>\n",
       "      <td>...</td>\n",
       "      <td>...</td>\n",
       "    </tr>\n",
       "    <tr>\n",
       "      <th>70862</th>\n",
       "      <td>716.0</td>\n",
       "      <td>552.0</td>\n",
       "      <td>b'ZIM'</td>\n",
       "      <td>2020.0</td>\n",
       "      <td>716071211.0</td>\n",
       "      <td>20200322.0</td>\n",
       "      <td>202003.0</td>\n",
       "      <td>202002.0</td>\n",
       "      <td>10.51</td>\n",
       "      <td>12.08</td>\n",
       "      <td>...</td>\n",
       "      <td>66.710771</td>\n",
       "      <td>NaN</td>\n",
       "      <td>NaN</td>\n",
       "      <td>NaN</td>\n",
       "      <td>NaN</td>\n",
       "      <td>NaN</td>\n",
       "      <td>NaN</td>\n",
       "      <td>NaN</td>\n",
       "      <td>NaN</td>\n",
       "      <td>NaN</td>\n",
       "    </tr>\n",
       "    <tr>\n",
       "      <th>70863</th>\n",
       "      <td>716.0</td>\n",
       "      <td>552.0</td>\n",
       "      <td>b'ZIM'</td>\n",
       "      <td>2020.0</td>\n",
       "      <td>716071212.0</td>\n",
       "      <td>20200322.0</td>\n",
       "      <td>202003.0</td>\n",
       "      <td>202002.0</td>\n",
       "      <td>12.25</td>\n",
       "      <td>13.45</td>\n",
       "      <td>...</td>\n",
       "      <td>NaN</td>\n",
       "      <td>4.74</td>\n",
       "      <td>9.0027</td>\n",
       "      <td>1.153</td>\n",
       "      <td>-0.154</td>\n",
       "      <td>-0.412</td>\n",
       "      <td>-0.338</td>\n",
       "      <td>1.169</td>\n",
       "      <td>0.763</td>\n",
       "      <td>0.56</td>\n",
       "    </tr>\n",
       "    <tr>\n",
       "      <th>70864</th>\n",
       "      <td>716.0</td>\n",
       "      <td>552.0</td>\n",
       "      <td>b'ZIM'</td>\n",
       "      <td>2020.0</td>\n",
       "      <td>716071213.0</td>\n",
       "      <td>20200322.0</td>\n",
       "      <td>202003.0</td>\n",
       "      <td>202002.0</td>\n",
       "      <td>14.23</td>\n",
       "      <td>15.22</td>\n",
       "      <td>...</td>\n",
       "      <td>NaN</td>\n",
       "      <td>NaN</td>\n",
       "      <td>NaN</td>\n",
       "      <td>NaN</td>\n",
       "      <td>NaN</td>\n",
       "      <td>NaN</td>\n",
       "      <td>NaN</td>\n",
       "      <td>NaN</td>\n",
       "      <td>NaN</td>\n",
       "      <td>NaN</td>\n",
       "    </tr>\n",
       "    <tr>\n",
       "      <th>70865</th>\n",
       "      <td>716.0</td>\n",
       "      <td>552.0</td>\n",
       "      <td>b'ZIM'</td>\n",
       "      <td>2020.0</td>\n",
       "      <td>716071214.0</td>\n",
       "      <td>20200322.0</td>\n",
       "      <td>202003.0</td>\n",
       "      <td>202002.0</td>\n",
       "      <td>15.34</td>\n",
       "      <td>16.57</td>\n",
       "      <td>...</td>\n",
       "      <td>NaN</td>\n",
       "      <td>4.74</td>\n",
       "      <td>9.0027</td>\n",
       "      <td>1.153</td>\n",
       "      <td>-0.154</td>\n",
       "      <td>-0.412</td>\n",
       "      <td>-0.338</td>\n",
       "      <td>1.169</td>\n",
       "      <td>0.763</td>\n",
       "      <td>0.56</td>\n",
       "    </tr>\n",
       "    <tr>\n",
       "      <th>70866</th>\n",
       "      <td>716.0</td>\n",
       "      <td>552.0</td>\n",
       "      <td>b'ZIM'</td>\n",
       "      <td>2020.0</td>\n",
       "      <td>716071215.0</td>\n",
       "      <td>20200322.0</td>\n",
       "      <td>202003.0</td>\n",
       "      <td>202002.0</td>\n",
       "      <td>17.04</td>\n",
       "      <td>18.31</td>\n",
       "      <td>...</td>\n",
       "      <td>NaN</td>\n",
       "      <td>4.74</td>\n",
       "      <td>9.0027</td>\n",
       "      <td>1.153</td>\n",
       "      <td>-0.154</td>\n",
       "      <td>-0.412</td>\n",
       "      <td>-0.338</td>\n",
       "      <td>1.169</td>\n",
       "      <td>0.763</td>\n",
       "      <td>0.56</td>\n",
       "    </tr>\n",
       "  </tbody>\n",
       "</table>\n",
       "<p>70867 rows × 542 columns</p>\n",
       "</div>"
      ],
      "text/plain": [
       "       B_COUNTRY  C_COW_NUM C_COW_ALPHA  A_YEAR  D_INTERVIEW   J_INTDATE  \\\n",
       "0           20.0      232.0      b'AND'  2018.0   20070001.0  20180704.0   \n",
       "1           20.0      232.0      b'AND'  2018.0   20070002.0  20180714.0   \n",
       "2           20.0      232.0      b'AND'  2018.0   20070003.0  20180704.0   \n",
       "3           20.0      232.0      b'AND'  2018.0   20070004.0  20180702.0   \n",
       "4           20.0      232.0      b'AND'  2018.0   20070005.0  20180708.0   \n",
       "...          ...        ...         ...     ...          ...         ...   \n",
       "70862      716.0      552.0      b'ZIM'  2020.0  716071211.0  20200322.0   \n",
       "70863      716.0      552.0      b'ZIM'  2020.0  716071212.0  20200322.0   \n",
       "70864      716.0      552.0      b'ZIM'  2020.0  716071213.0  20200322.0   \n",
       "70865      716.0      552.0      b'ZIM'  2020.0  716071214.0  20200322.0   \n",
       "70866      716.0      552.0      b'ZIM'  2020.0  716071215.0  20200322.0   \n",
       "\n",
       "         FW_END  FW_START  K_TIME_START  K_TIME_END  ...  \\\n",
       "0      201809.0  201807.0         18.20       19.48  ...   \n",
       "1      201809.0  201807.0          9.35       11.00  ...   \n",
       "2      201809.0  201807.0         10.15       10.45  ...   \n",
       "3      201809.0  201807.0         17.05       18.20  ...   \n",
       "4      201809.0  201807.0         10.20       11.48  ...   \n",
       "...         ...       ...           ...         ...  ...   \n",
       "70862  202003.0  202002.0         10.51       12.08  ...   \n",
       "70863  202003.0  202002.0         12.25       13.45  ...   \n",
       "70864  202003.0  202002.0         14.23       15.22  ...   \n",
       "70865  202003.0  202002.0         15.34       16.57  ...   \n",
       "70866  202003.0  202002.0         17.04       18.31  ...   \n",
       "\n",
       "       WVS_Polmistrust_PartyVoter  WVS_LR_MedianVoter  WVS_LibCon_MedianVoter  \\\n",
       "0                       62.434211                 NaN                     NaN   \n",
       "1                       62.434211                 NaN                     NaN   \n",
       "2                       62.434211                 NaN                     NaN   \n",
       "3                             NaN                 NaN                     NaN   \n",
       "4                       66.964286                 NaN                     NaN   \n",
       "...                           ...                 ...                     ...   \n",
       "70862                   66.710771                 NaN                     NaN   \n",
       "70863                         NaN                4.74                  9.0027   \n",
       "70864                         NaN                 NaN                     NaN   \n",
       "70865                         NaN                4.74                  9.0027   \n",
       "70866                         NaN                4.74                  9.0027   \n",
       "\n",
       "       v2psbars  v2psorgs  v2psprbrch  v2psprlnks  v2psplats  v2xnp_client  \\\n",
       "0           NaN       NaN         NaN         NaN        NaN           NaN   \n",
       "1           NaN       NaN         NaN         NaN        NaN           NaN   \n",
       "2           NaN       NaN         NaN         NaN        NaN           NaN   \n",
       "3           NaN       NaN         NaN         NaN        NaN           NaN   \n",
       "4           NaN       NaN         NaN         NaN        NaN           NaN   \n",
       "...         ...       ...         ...         ...        ...           ...   \n",
       "70862       NaN       NaN         NaN         NaN        NaN           NaN   \n",
       "70863     1.153    -0.154      -0.412      -0.338      1.169         0.763   \n",
       "70864       NaN       NaN         NaN         NaN        NaN           NaN   \n",
       "70865     1.153    -0.154      -0.412      -0.338      1.169         0.763   \n",
       "70866     1.153    -0.154      -0.412      -0.338      1.169         0.763   \n",
       "\n",
       "       v2xps_party  \n",
       "0              NaN  \n",
       "1              NaN  \n",
       "2              NaN  \n",
       "3              NaN  \n",
       "4              NaN  \n",
       "...            ...  \n",
       "70862          NaN  \n",
       "70863         0.56  \n",
       "70864          NaN  \n",
       "70865         0.56  \n",
       "70866         0.56  \n",
       "\n",
       "[70867 rows x 542 columns]"
      ]
     },
     "execution_count": 7,
     "metadata": {},
     "output_type": "execute_result"
    }
   ],
   "source": [
    "drop = ['version', 'doi', 'A_WAVE', 'A_STUDY', 'B_COUNTRY_ALPHA']\n",
    "data.drop(drop,axis=1)"
   ]
  },
  {
   "cell_type": "code",
   "execution_count": 8,
   "id": "popular-citation",
   "metadata": {},
   "outputs": [],
   "source": [
    "from src.pipeline import create_Xy, country_codes"
   ]
  },
  {
   "cell_type": "code",
   "execution_count": 9,
   "id": "sustainable-mozambique",
   "metadata": {},
   "outputs": [],
   "source": [
    "X, y = create_Xy(data)"
   ]
  },
  {
   "cell_type": "code",
   "execution_count": 10,
   "id": "precious-equity",
   "metadata": {},
   "outputs": [],
   "source": [
    "country_codes = country_codes()"
   ]
  },
  {
   "cell_type": "markdown",
   "id": "warming-arabic",
   "metadata": {},
   "source": [
    "## Classification modeling"
   ]
  },
  {
   "cell_type": "code",
   "execution_count": 11,
   "id": "distant-biology",
   "metadata": {},
   "outputs": [],
   "source": [
    "from sklearn.model_selection import train_test_split\n",
    "from sklearn.ensemble import RandomForestClassifier, GradientBoostingClassifier"
   ]
  },
  {
   "cell_type": "code",
   "execution_count": 12,
   "id": "defensive-green",
   "metadata": {
    "scrolled": true
   },
   "outputs": [
    {
     "data": {
      "text/plain": [
       "Q1       110\n",
       "Q2       253\n",
       "Q3       403\n",
       "Q4       853\n",
       "Q5       683\n",
       "        ... \n",
       "Q194    4232\n",
       "Q195    1776\n",
       "Q196    2776\n",
       "Q197    3494\n",
       "Q198    3238\n",
       "Length: 186, dtype: int64"
      ]
     },
     "execution_count": 12,
     "metadata": {},
     "output_type": "execute_result"
    }
   ],
   "source": [
    "X.isna().sum()"
   ]
  },
  {
   "cell_type": "code",
   "execution_count": 13,
   "id": "registered-montgomery",
   "metadata": {},
   "outputs": [],
   "source": [
    "X_train, X_test, y_train, y_test = train_test_split(X, y, \n",
    "                                                    test_size=.1,\n",
    "                                                    random_state=0)"
   ]
  },
  {
   "cell_type": "code",
   "execution_count": 14,
   "id": "spatial-strip",
   "metadata": {
    "scrolled": true
   },
   "outputs": [
    {
     "data": {
      "text/plain": [
       "Q1      1.099788\n",
       "Q2      1.740988\n",
       "Q3      1.802763\n",
       "Q4      2.605289\n",
       "Q5      1.518341\n",
       "          ...   \n",
       "Q194    1.974320\n",
       "Q195    4.044459\n",
       "Q196    2.241200\n",
       "Q197    2.836695\n",
       "Q198    2.916827\n",
       "Length: 186, dtype: float64"
      ]
     },
     "execution_count": 14,
     "metadata": {},
     "output_type": "execute_result"
    }
   ],
   "source": [
    "X_train.mean()"
   ]
  },
  {
   "cell_type": "code",
   "execution_count": 15,
   "id": "racial-pennsylvania",
   "metadata": {
    "scrolled": true
   },
   "outputs": [],
   "source": [
    "X_m = X_train.mean()\n",
    "X_train = X_train.fillna(X_m)\n",
    "X_test = X_test.fillna(X_m)\n",
    "X = X.fillna(X_m)"
   ]
  },
  {
   "cell_type": "code",
   "execution_count": 16,
   "id": "ultimate-raising",
   "metadata": {},
   "outputs": [
    {
     "data": {
      "text/plain": [
       "(63780, 186)"
      ]
     },
     "execution_count": 16,
     "metadata": {},
     "output_type": "execute_result"
    }
   ],
   "source": [
    "X_train.shape"
   ]
  },
  {
   "cell_type": "code",
   "execution_count": 20,
   "id": "floppy-insertion",
   "metadata": {},
   "outputs": [
    {
     "name": "stdout",
     "output_type": "stream",
     "text": [
      "accuracy = 0.7715535487512346\n"
     ]
    }
   ],
   "source": [
    "gb = GradientBoostingClassifier(learning_rate=0.1, \n",
    "                                  n_estimators=30,\n",
    "                                  max_depth=3)\n",
    "gb.fit(X_train, y_train)\n",
    "y_hat = gb.predict(X_test)\n",
    "print(f\"accuracy = {gb.score(X_test, y_test)}\")"
   ]
  },
  {
   "cell_type": "code",
   "execution_count": 16,
   "id": "unknown-focus",
   "metadata": {},
   "outputs": [
    {
     "name": "stdout",
     "output_type": "stream",
     "text": [
      "accuracy = 0.803442923663045\n"
     ]
    }
   ],
   "source": [
    "# Train and fit model                                                   \n",
    "rf = RandomForestClassifier(n_estimators=100,\n",
    "                           max_features='auto',\n",
    "                           random_state=0)\n",
    "rf.fit(X_train, y_train)\n",
    "                                     \n",
    "# Test Prediction\n",
    "pred = rf.predict(X_test)\n",
    "# print(f\"log loss = {log_loss(y_test, rf.predict_proba(X_test)[:, 1])}\")\n",
    "print(f\"accuracy = {rf.score(X_test, y_test)}\")"
   ]
  },
  {
   "cell_type": "code",
   "execution_count": 44,
   "id": "caring-ensemble",
   "metadata": {},
   "outputs": [
    {
     "name": "stdout",
     "output_type": "stream",
     "text": [
      "accuracy = 0.8876816706645971\n"
     ]
    }
   ],
   "source": [
    "print(f\"accuracy = {rf.score(X_test, y_test)}\")"
   ]
  },
  {
   "cell_type": "code",
   "execution_count": 17,
   "id": "south-vanilla",
   "metadata": {},
   "outputs": [
    {
     "data": {
      "image/png": "[encoded data removed]",
      "text/plain": [
       "<Figure size 1080x576 with 1 Axes>"
      ]
     },
     "metadata": {
      "needs_background": "light"
     },
     "output_type": "display_data"
    }
   ],
   "source": [
    "# Plot the feature importance\n",
    "feat_scores = pd.DataFrame({'Fraction of Samples Affected' : rf.feature_importances_},\n",
    "                           index=X.columns)\n",
    "feat_scores = feat_scores.sort_values(by='Fraction of Samples Affected')\n",
    "feat_scores[-20:].plot(kind='barh', figsize=(15,8));"
   ]
  },
  {
   "cell_type": "code",
   "execution_count": 17,
   "id": "suspected-drunk",
   "metadata": {},
   "outputs": [],
   "source": [
    "from sklearn.model_selection import ShuffleSplit\n",
    "from sklearn.metrics import r2_score\n",
    "from collections import defaultdict"
   ]
  },
  {
   "cell_type": "code",
   "execution_count": 18,
   "id": "medieval-contact",
   "metadata": {},
   "outputs": [
    {
     "ename": "KeyboardInterrupt",
     "evalue": "",
     "output_type": "error",
     "traceback": [
      "\u001b[0;31m---------------------------------------------------------------------------\u001b[0m",
      "\u001b[0;31mKeyboardInterrupt\u001b[0m                         Traceback (most recent call last)",
      "\u001b[0;32m<ipython-input-18-bdb33726d71c>\u001b[0m in \u001b[0;36m<module>\u001b[0;34m\u001b[0m\n\u001b[1;32m     16\u001b[0m         \u001b[0mX_t\u001b[0m \u001b[0;34m=\u001b[0m \u001b[0mX_test\u001b[0m\u001b[0;34m.\u001b[0m\u001b[0mcopy\u001b[0m\u001b[0;34m(\u001b[0m\u001b[0;34m)\u001b[0m\u001b[0;34m\u001b[0m\u001b[0;34m\u001b[0m\u001b[0m\n\u001b[1;32m     17\u001b[0m         \u001b[0mnp\u001b[0m\u001b[0;34m.\u001b[0m\u001b[0mrandom\u001b[0m\u001b[0;34m.\u001b[0m\u001b[0mshuffle\u001b[0m\u001b[0;34m(\u001b[0m\u001b[0mX_t\u001b[0m\u001b[0;34m[\u001b[0m\u001b[0;34m:\u001b[0m\u001b[0;34m,\u001b[0m \u001b[0mi\u001b[0m\u001b[0;34m]\u001b[0m\u001b[0;34m)\u001b[0m\u001b[0;34m\u001b[0m\u001b[0;34m\u001b[0m\u001b[0m\n\u001b[0;32m---> 18\u001b[0;31m         \u001b[0mshuff_acc\u001b[0m \u001b[0;34m=\u001b[0m \u001b[0mr2_score\u001b[0m\u001b[0;34m(\u001b[0m\u001b[0my_test\u001b[0m\u001b[0;34m,\u001b[0m \u001b[0mrf\u001b[0m\u001b[0;34m.\u001b[0m\u001b[0mpredict\u001b[0m\u001b[0;34m(\u001b[0m\u001b[0mX_t\u001b[0m\u001b[0;34m)\u001b[0m\u001b[0;34m)\u001b[0m\u001b[0;34m\u001b[0m\u001b[0;34m\u001b[0m\u001b[0m\n\u001b[0m\u001b[1;32m     19\u001b[0m         \u001b[0mscores\u001b[0m\u001b[0;34m[\u001b[0m\u001b[0mnames\u001b[0m\u001b[0;34m[\u001b[0m\u001b[0mi\u001b[0m\u001b[0;34m]\u001b[0m\u001b[0;34m]\u001b[0m\u001b[0;34m.\u001b[0m\u001b[0mappend\u001b[0m\u001b[0;34m(\u001b[0m\u001b[0;34m(\u001b[0m\u001b[0macc\u001b[0m\u001b[0;34m-\u001b[0m\u001b[0mshuff_acc\u001b[0m\u001b[0;34m)\u001b[0m\u001b[0;34m/\u001b[0m\u001b[0macc\u001b[0m\u001b[0;34m)\u001b[0m\u001b[0;34m\u001b[0m\u001b[0;34m\u001b[0m\u001b[0m\n\u001b[1;32m     20\u001b[0m \u001b[0;34m\u001b[0m\u001b[0m\n",
      "\u001b[0;32m~/miniforge3/envs/tf/lib/python3.8/site-packages/sklearn/ensemble/_forest.py\u001b[0m in \u001b[0;36mpredict\u001b[0;34m(self, X)\u001b[0m\n\u001b[1;32m    628\u001b[0m             \u001b[0mThe\u001b[0m \u001b[0mpredicted\u001b[0m \u001b[0mclasses\u001b[0m\u001b[0;34m.\u001b[0m\u001b[0;34m\u001b[0m\u001b[0;34m\u001b[0m\u001b[0m\n\u001b[1;32m    629\u001b[0m         \"\"\"\n\u001b[0;32m--> 630\u001b[0;31m         \u001b[0mproba\u001b[0m \u001b[0;34m=\u001b[0m \u001b[0mself\u001b[0m\u001b[0;34m.\u001b[0m\u001b[0mpredict_proba\u001b[0m\u001b[0;34m(\u001b[0m\u001b[0mX\u001b[0m\u001b[0;34m)\u001b[0m\u001b[0;34m\u001b[0m\u001b[0;34m\u001b[0m\u001b[0m\n\u001b[0m\u001b[1;32m    631\u001b[0m \u001b[0;34m\u001b[0m\u001b[0m\n\u001b[1;32m    632\u001b[0m         \u001b[0;32mif\u001b[0m \u001b[0mself\u001b[0m\u001b[0;34m.\u001b[0m\u001b[0mn_outputs_\u001b[0m \u001b[0;34m==\u001b[0m \u001b[0;36m1\u001b[0m\u001b[0;34m:\u001b[0m\u001b[0;34m\u001b[0m\u001b[0;34m\u001b[0m\u001b[0m\n",
      "\u001b[0;32m~/miniforge3/envs/tf/lib/python3.8/site-packages/sklearn/ensemble/_forest.py\u001b[0m in \u001b[0;36mpredict_proba\u001b[0;34m(self, X)\u001b[0m\n\u001b[1;32m    681\u001b[0m                      for j in np.atleast_1d(self.n_classes_)]\n\u001b[1;32m    682\u001b[0m         \u001b[0mlock\u001b[0m \u001b[0;34m=\u001b[0m \u001b[0mthreading\u001b[0m\u001b[0;34m.\u001b[0m\u001b[0mLock\u001b[0m\u001b[0;34m(\u001b[0m\u001b[0;34m)\u001b[0m\u001b[0;34m\u001b[0m\u001b[0;34m\u001b[0m\u001b[0m\n\u001b[0;32m--> 683\u001b[0;31m         Parallel(n_jobs=n_jobs, verbose=self.verbose,\n\u001b[0m\u001b[1;32m    684\u001b[0m                  \u001b[0;34m**\u001b[0m\u001b[0m_joblib_parallel_args\u001b[0m\u001b[0;34m(\u001b[0m\u001b[0mrequire\u001b[0m\u001b[0;34m=\u001b[0m\u001b[0;34m\"sharedmem\"\u001b[0m\u001b[0;34m)\u001b[0m\u001b[0;34m)\u001b[0m\u001b[0;34m(\u001b[0m\u001b[0;34m\u001b[0m\u001b[0;34m\u001b[0m\u001b[0m\n\u001b[1;32m    685\u001b[0m             delayed(_accumulate_prediction)(e.predict_proba, X, all_proba,\n",
      "\u001b[0;32m~/miniforge3/envs/tf/lib/python3.8/site-packages/joblib/parallel.py\u001b[0m in \u001b[0;36m__call__\u001b[0;34m(self, iterable)\u001b[0m\n\u001b[1;32m   1042\u001b[0m                 \u001b[0mself\u001b[0m\u001b[0;34m.\u001b[0m\u001b[0m_iterating\u001b[0m \u001b[0;34m=\u001b[0m \u001b[0mself\u001b[0m\u001b[0;34m.\u001b[0m\u001b[0m_original_iterator\u001b[0m \u001b[0;32mis\u001b[0m \u001b[0;32mnot\u001b[0m \u001b[0;32mNone\u001b[0m\u001b[0;34m\u001b[0m\u001b[0;34m\u001b[0m\u001b[0m\n\u001b[1;32m   1043\u001b[0m \u001b[0;34m\u001b[0m\u001b[0m\n\u001b[0;32m-> 1044\u001b[0;31m             \u001b[0;32mwhile\u001b[0m \u001b[0mself\u001b[0m\u001b[0;34m.\u001b[0m\u001b[0mdispatch_one_batch\u001b[0m\u001b[0;34m(\u001b[0m\u001b[0miterator\u001b[0m\u001b[0;34m)\u001b[0m\u001b[0;34m:\u001b[0m\u001b[0;34m\u001b[0m\u001b[0;34m\u001b[0m\u001b[0m\n\u001b[0m\u001b[1;32m   1045\u001b[0m                 \u001b[0;32mpass\u001b[0m\u001b[0;34m\u001b[0m\u001b[0;34m\u001b[0m\u001b[0m\n\u001b[1;32m   1046\u001b[0m \u001b[0;34m\u001b[0m\u001b[0m\n",
      "\u001b[0;32m~/miniforge3/envs/tf/lib/python3.8/site-packages/joblib/parallel.py\u001b[0m in \u001b[0;36mdispatch_one_batch\u001b[0;34m(self, iterator)\u001b[0m\n\u001b[1;32m    857\u001b[0m                 \u001b[0;32mreturn\u001b[0m \u001b[0;32mFalse\u001b[0m\u001b[0;34m\u001b[0m\u001b[0;34m\u001b[0m\u001b[0m\n\u001b[1;32m    858\u001b[0m             \u001b[0;32melse\u001b[0m\u001b[0;34m:\u001b[0m\u001b[0;34m\u001b[0m\u001b[0;34m\u001b[0m\u001b[0m\n\u001b[0;32m--> 859\u001b[0;31m                 \u001b[0mself\u001b[0m\u001b[0;34m.\u001b[0m\u001b[0m_dispatch\u001b[0m\u001b[0;34m(\u001b[0m\u001b[0mtasks\u001b[0m\u001b[0;34m)\u001b[0m\u001b[0;34m\u001b[0m\u001b[0;34m\u001b[0m\u001b[0m\n\u001b[0m\u001b[1;32m    860\u001b[0m                 \u001b[0;32mreturn\u001b[0m \u001b[0;32mTrue\u001b[0m\u001b[0;34m\u001b[0m\u001b[0;34m\u001b[0m\u001b[0m\n\u001b[1;32m    861\u001b[0m \u001b[0;34m\u001b[0m\u001b[0m\n",
      "\u001b[0;32m~/miniforge3/envs/tf/lib/python3.8/site-packages/joblib/parallel.py\u001b[0m in \u001b[0;36m_dispatch\u001b[0;34m(self, batch)\u001b[0m\n\u001b[1;32m    775\u001b[0m         \u001b[0;32mwith\u001b[0m \u001b[0mself\u001b[0m\u001b[0;34m.\u001b[0m\u001b[0m_lock\u001b[0m\u001b[0;34m:\u001b[0m\u001b[0;34m\u001b[0m\u001b[0;34m\u001b[0m\u001b[0m\n\u001b[1;32m    776\u001b[0m             \u001b[0mjob_idx\u001b[0m \u001b[0;34m=\u001b[0m \u001b[0mlen\u001b[0m\u001b[0;34m(\u001b[0m\u001b[0mself\u001b[0m\u001b[0;34m.\u001b[0m\u001b[0m_jobs\u001b[0m\u001b[0;34m)\u001b[0m\u001b[0;34m\u001b[0m\u001b[0;34m\u001b[0m\u001b[0m\n\u001b[0;32m--> 777\u001b[0;31m             \u001b[0mjob\u001b[0m \u001b[0;34m=\u001b[0m \u001b[0mself\u001b[0m\u001b[0;34m.\u001b[0m\u001b[0m_backend\u001b[0m\u001b[0;34m.\u001b[0m\u001b[0mapply_async\u001b[0m\u001b[0;34m(\u001b[0m\u001b[0mbatch\u001b[0m\u001b[0;34m,\u001b[0m \u001b[0mcallback\u001b[0m\u001b[0;34m=\u001b[0m\u001b[0mcb\u001b[0m\u001b[0;34m)\u001b[0m\u001b[0;34m\u001b[0m\u001b[0;34m\u001b[0m\u001b[0m\n\u001b[0m\u001b[1;32m    778\u001b[0m             \u001b[0;31m# A job can complete so quickly than its callback is\u001b[0m\u001b[0;34m\u001b[0m\u001b[0;34m\u001b[0m\u001b[0;34m\u001b[0m\u001b[0m\n\u001b[1;32m    779\u001b[0m             \u001b[0;31m# called before we get here, causing self._jobs to\u001b[0m\u001b[0;34m\u001b[0m\u001b[0;34m\u001b[0m\u001b[0;34m\u001b[0m\u001b[0m\n",
      "\u001b[0;32m~/miniforge3/envs/tf/lib/python3.8/site-packages/joblib/_parallel_backends.py\u001b[0m in \u001b[0;36mapply_async\u001b[0;34m(self, func, callback)\u001b[0m\n\u001b[1;32m    206\u001b[0m     \u001b[0;32mdef\u001b[0m \u001b[0mapply_async\u001b[0m\u001b[0;34m(\u001b[0m\u001b[0mself\u001b[0m\u001b[0;34m,\u001b[0m \u001b[0mfunc\u001b[0m\u001b[0;34m,\u001b[0m \u001b[0mcallback\u001b[0m\u001b[0;34m=\u001b[0m\u001b[0;32mNone\u001b[0m\u001b[0;34m)\u001b[0m\u001b[0;34m:\u001b[0m\u001b[0;34m\u001b[0m\u001b[0;34m\u001b[0m\u001b[0m\n\u001b[1;32m    207\u001b[0m         \u001b[0;34m\"\"\"Schedule a func to be run\"\"\"\u001b[0m\u001b[0;34m\u001b[0m\u001b[0;34m\u001b[0m\u001b[0m\n\u001b[0;32m--> 208\u001b[0;31m         \u001b[0mresult\u001b[0m \u001b[0;34m=\u001b[0m \u001b[0mImmediateResult\u001b[0m\u001b[0;34m(\u001b[0m\u001b[0mfunc\u001b[0m\u001b[0;34m)\u001b[0m\u001b[0;34m\u001b[0m\u001b[0;34m\u001b[0m\u001b[0m\n\u001b[0m\u001b[1;32m    209\u001b[0m         \u001b[0;32mif\u001b[0m \u001b[0mcallback\u001b[0m\u001b[0;34m:\u001b[0m\u001b[0;34m\u001b[0m\u001b[0;34m\u001b[0m\u001b[0m\n\u001b[1;32m    210\u001b[0m             \u001b[0mcallback\u001b[0m\u001b[0;34m(\u001b[0m\u001b[0mresult\u001b[0m\u001b[0;34m)\u001b[0m\u001b[0;34m\u001b[0m\u001b[0;34m\u001b[0m\u001b[0m\n",
      "\u001b[0;32m~/miniforge3/envs/tf/lib/python3.8/site-packages/joblib/_parallel_backends.py\u001b[0m in \u001b[0;36m__init__\u001b[0;34m(self, batch)\u001b[0m\n\u001b[1;32m    570\u001b[0m         \u001b[0;31m# Don't delay the application, to avoid keeping the input\u001b[0m\u001b[0;34m\u001b[0m\u001b[0;34m\u001b[0m\u001b[0;34m\u001b[0m\u001b[0m\n\u001b[1;32m    571\u001b[0m         \u001b[0;31m# arguments in memory\u001b[0m\u001b[0;34m\u001b[0m\u001b[0;34m\u001b[0m\u001b[0;34m\u001b[0m\u001b[0m\n\u001b[0;32m--> 572\u001b[0;31m         \u001b[0mself\u001b[0m\u001b[0;34m.\u001b[0m\u001b[0mresults\u001b[0m \u001b[0;34m=\u001b[0m \u001b[0mbatch\u001b[0m\u001b[0;34m(\u001b[0m\u001b[0;34m)\u001b[0m\u001b[0;34m\u001b[0m\u001b[0;34m\u001b[0m\u001b[0m\n\u001b[0m\u001b[1;32m    573\u001b[0m \u001b[0;34m\u001b[0m\u001b[0m\n\u001b[1;32m    574\u001b[0m     \u001b[0;32mdef\u001b[0m \u001b[0mget\u001b[0m\u001b[0;34m(\u001b[0m\u001b[0mself\u001b[0m\u001b[0;34m)\u001b[0m\u001b[0;34m:\u001b[0m\u001b[0;34m\u001b[0m\u001b[0;34m\u001b[0m\u001b[0m\n",
      "\u001b[0;32m~/miniforge3/envs/tf/lib/python3.8/site-packages/joblib/parallel.py\u001b[0m in \u001b[0;36m__call__\u001b[0;34m(self)\u001b[0m\n\u001b[1;32m    260\u001b[0m         \u001b[0;31m# change the default number of processes to -1\u001b[0m\u001b[0;34m\u001b[0m\u001b[0;34m\u001b[0m\u001b[0;34m\u001b[0m\u001b[0m\n\u001b[1;32m    261\u001b[0m         \u001b[0;32mwith\u001b[0m \u001b[0mparallel_backend\u001b[0m\u001b[0;34m(\u001b[0m\u001b[0mself\u001b[0m\u001b[0;34m.\u001b[0m\u001b[0m_backend\u001b[0m\u001b[0;34m,\u001b[0m \u001b[0mn_jobs\u001b[0m\u001b[0;34m=\u001b[0m\u001b[0mself\u001b[0m\u001b[0;34m.\u001b[0m\u001b[0m_n_jobs\u001b[0m\u001b[0;34m)\u001b[0m\u001b[0;34m:\u001b[0m\u001b[0;34m\u001b[0m\u001b[0;34m\u001b[0m\u001b[0m\n\u001b[0;32m--> 262\u001b[0;31m             return [func(*args, **kwargs)\n\u001b[0m\u001b[1;32m    263\u001b[0m                     for func, args, kwargs in self.items]\n\u001b[1;32m    264\u001b[0m \u001b[0;34m\u001b[0m\u001b[0m\n",
      "\u001b[0;32m~/miniforge3/envs/tf/lib/python3.8/site-packages/joblib/parallel.py\u001b[0m in \u001b[0;36m<listcomp>\u001b[0;34m(.0)\u001b[0m\n\u001b[1;32m    260\u001b[0m         \u001b[0;31m# change the default number of processes to -1\u001b[0m\u001b[0;34m\u001b[0m\u001b[0;34m\u001b[0m\u001b[0;34m\u001b[0m\u001b[0m\n\u001b[1;32m    261\u001b[0m         \u001b[0;32mwith\u001b[0m \u001b[0mparallel_backend\u001b[0m\u001b[0;34m(\u001b[0m\u001b[0mself\u001b[0m\u001b[0;34m.\u001b[0m\u001b[0m_backend\u001b[0m\u001b[0;34m,\u001b[0m \u001b[0mn_jobs\u001b[0m\u001b[0;34m=\u001b[0m\u001b[0mself\u001b[0m\u001b[0;34m.\u001b[0m\u001b[0m_n_jobs\u001b[0m\u001b[0;34m)\u001b[0m\u001b[0;34m:\u001b[0m\u001b[0;34m\u001b[0m\u001b[0;34m\u001b[0m\u001b[0m\n\u001b[0;32m--> 262\u001b[0;31m             return [func(*args, **kwargs)\n\u001b[0m\u001b[1;32m    263\u001b[0m                     for func, args, kwargs in self.items]\n\u001b[1;32m    264\u001b[0m \u001b[0;34m\u001b[0m\u001b[0m\n",
      "\u001b[0;32m~/miniforge3/envs/tf/lib/python3.8/site-packages/sklearn/utils/fixes.py\u001b[0m in \u001b[0;36m__call__\u001b[0;34m(self, *args, **kwargs)\u001b[0m\n\u001b[1;32m    220\u001b[0m     \u001b[0;32mdef\u001b[0m \u001b[0m__call__\u001b[0m\u001b[0;34m(\u001b[0m\u001b[0mself\u001b[0m\u001b[0;34m,\u001b[0m \u001b[0;34m*\u001b[0m\u001b[0margs\u001b[0m\u001b[0;34m,\u001b[0m \u001b[0;34m**\u001b[0m\u001b[0mkwargs\u001b[0m\u001b[0;34m)\u001b[0m\u001b[0;34m:\u001b[0m\u001b[0;34m\u001b[0m\u001b[0;34m\u001b[0m\u001b[0m\n\u001b[1;32m    221\u001b[0m         \u001b[0;32mwith\u001b[0m \u001b[0mconfig_context\u001b[0m\u001b[0;34m(\u001b[0m\u001b[0;34m**\u001b[0m\u001b[0mself\u001b[0m\u001b[0;34m.\u001b[0m\u001b[0mconfig\u001b[0m\u001b[0;34m)\u001b[0m\u001b[0;34m:\u001b[0m\u001b[0;34m\u001b[0m\u001b[0;34m\u001b[0m\u001b[0m\n\u001b[0;32m--> 222\u001b[0;31m             \u001b[0;32mreturn\u001b[0m \u001b[0mself\u001b[0m\u001b[0;34m.\u001b[0m\u001b[0mfunction\u001b[0m\u001b[0;34m(\u001b[0m\u001b[0;34m*\u001b[0m\u001b[0margs\u001b[0m\u001b[0;34m,\u001b[0m \u001b[0;34m**\u001b[0m\u001b[0mkwargs\u001b[0m\u001b[0;34m)\u001b[0m\u001b[0;34m\u001b[0m\u001b[0;34m\u001b[0m\u001b[0m\n\u001b[0m",
      "\u001b[0;32m~/miniforge3/envs/tf/lib/python3.8/site-packages/sklearn/ensemble/_forest.py\u001b[0m in \u001b[0;36m_accumulate_prediction\u001b[0;34m(predict, X, out, lock)\u001b[0m\n\u001b[1;32m    465\u001b[0m     \u001b[0mcomplains\u001b[0m \u001b[0mthat\u001b[0m \u001b[0mit\u001b[0m \u001b[0mcannot\u001b[0m \u001b[0mpickle\u001b[0m \u001b[0mit\u001b[0m \u001b[0mwhen\u001b[0m \u001b[0mplaced\u001b[0m \u001b[0mthere\u001b[0m\u001b[0;34m.\u001b[0m\u001b[0;34m\u001b[0m\u001b[0;34m\u001b[0m\u001b[0m\n\u001b[1;32m    466\u001b[0m     \"\"\"\n\u001b[0;32m--> 467\u001b[0;31m     \u001b[0mprediction\u001b[0m \u001b[0;34m=\u001b[0m \u001b[0mpredict\u001b[0m\u001b[0;34m(\u001b[0m\u001b[0mX\u001b[0m\u001b[0;34m,\u001b[0m \u001b[0mcheck_input\u001b[0m\u001b[0;34m=\u001b[0m\u001b[0;32mFalse\u001b[0m\u001b[0;34m)\u001b[0m\u001b[0;34m\u001b[0m\u001b[0;34m\u001b[0m\u001b[0m\n\u001b[0m\u001b[1;32m    468\u001b[0m     \u001b[0;32mwith\u001b[0m \u001b[0mlock\u001b[0m\u001b[0;34m:\u001b[0m\u001b[0;34m\u001b[0m\u001b[0;34m\u001b[0m\u001b[0m\n\u001b[1;32m    469\u001b[0m         \u001b[0;32mif\u001b[0m \u001b[0mlen\u001b[0m\u001b[0;34m(\u001b[0m\u001b[0mout\u001b[0m\u001b[0;34m)\u001b[0m \u001b[0;34m==\u001b[0m \u001b[0;36m1\u001b[0m\u001b[0;34m:\u001b[0m\u001b[0;34m\u001b[0m\u001b[0;34m\u001b[0m\u001b[0m\n",
      "\u001b[0;32m~/miniforge3/envs/tf/lib/python3.8/site-packages/sklearn/tree/_classes.py\u001b[0m in \u001b[0;36mpredict_proba\u001b[0;34m(self, X, check_input)\u001b[0m\n\u001b[1;32m    929\u001b[0m         \u001b[0mcheck_is_fitted\u001b[0m\u001b[0;34m(\u001b[0m\u001b[0mself\u001b[0m\u001b[0;34m)\u001b[0m\u001b[0;34m\u001b[0m\u001b[0;34m\u001b[0m\u001b[0m\n\u001b[1;32m    930\u001b[0m         \u001b[0mX\u001b[0m \u001b[0;34m=\u001b[0m \u001b[0mself\u001b[0m\u001b[0;34m.\u001b[0m\u001b[0m_validate_X_predict\u001b[0m\u001b[0;34m(\u001b[0m\u001b[0mX\u001b[0m\u001b[0;34m,\u001b[0m \u001b[0mcheck_input\u001b[0m\u001b[0;34m)\u001b[0m\u001b[0;34m\u001b[0m\u001b[0;34m\u001b[0m\u001b[0m\n\u001b[0;32m--> 931\u001b[0;31m         \u001b[0mproba\u001b[0m \u001b[0;34m=\u001b[0m \u001b[0mself\u001b[0m\u001b[0;34m.\u001b[0m\u001b[0mtree_\u001b[0m\u001b[0;34m.\u001b[0m\u001b[0mpredict\u001b[0m\u001b[0;34m(\u001b[0m\u001b[0mX\u001b[0m\u001b[0;34m)\u001b[0m\u001b[0;34m\u001b[0m\u001b[0;34m\u001b[0m\u001b[0m\n\u001b[0m\u001b[1;32m    932\u001b[0m \u001b[0;34m\u001b[0m\u001b[0m\n\u001b[1;32m    933\u001b[0m         \u001b[0;32mif\u001b[0m \u001b[0mself\u001b[0m\u001b[0;34m.\u001b[0m\u001b[0mn_outputs_\u001b[0m \u001b[0;34m==\u001b[0m \u001b[0;36m1\u001b[0m\u001b[0;34m:\u001b[0m\u001b[0;34m\u001b[0m\u001b[0;34m\u001b[0m\u001b[0m\n",
      "\u001b[0;31mKeyboardInterrupt\u001b[0m: "
     ]
    }
   ],
   "source": [
    "names = data.columns\n",
    " \n",
    "rf = RandomForestClassifier()\n",
    "scores = defaultdict(list)\n",
    " \n",
    "# crossvalidate the scores on a number of \n",
    "# different random splits of the data\n",
    "splitter = ShuffleSplit(10, test_size=.3)\n",
    "\n",
    "for train_idx, test_idx in splitter.split(X, y):\n",
    "    X_train, X_test = X.values[train_idx], X.values[test_idx]\n",
    "    y_train, y_test = y.values[train_idx], y.values[test_idx]\n",
    "    rf.fit(X_train, y_train)\n",
    "    acc = r2_score(y_test, rf.predict(X_test))\n",
    "    for i in range(X.shape[1]):\n",
    "        X_t = X_test.copy()\n",
    "        np.random.shuffle(X_t[:, i])\n",
    "        shuff_acc = r2_score(y_test, rf.predict(X_t))\n",
    "        scores[names[i]].append((acc-shuff_acc)/acc)\n",
    "\n",
    "score_series = pd.DataFrame(scores).mean()\n",
    "scores = pd.DataFrame({'Mean Decrease Accuracy' : score_series})\n",
    "scores.sort_values(by='Mean Decrease Accuracy').plot(kind='barh', figsize=(15,8))"
   ]
  },
  {
   "cell_type": "code",
   "execution_count": null,
   "id": "pursuant-nothing",
   "metadata": {},
   "outputs": [],
   "source": []
  },
  {
   "cell_type": "code",
   "execution_count": null,
   "id": "dense-responsibility",
   "metadata": {},
   "outputs": [],
   "source": []
  },
  {
   "cell_type": "code",
   "execution_count": 21,
   "id": "female-stations",
   "metadata": {},
   "outputs": [],
   "source": [
    "M = X_train"
   ]
  },
  {
   "cell_type": "code",
   "execution_count": 22,
   "id": "first-treat",
   "metadata": {},
   "outputs": [
    {
     "name": "stderr",
     "output_type": "stream",
     "text": [
      "/Users/vinsonmccready/miniforge3/envs/tf/lib/python3.8/site-packages/sklearn/decomposition/_nmf.py:1090: ConvergenceWarning: Maximum number of iterations 500 reached. Increase it to improve convergence.\n",
      "  warnings.warn(\"Maximum number of iterations %d reached. Increase it to\"\n",
      "/Users/vinsonmccready/miniforge3/envs/tf/lib/python3.8/site-packages/sklearn/decomposition/_nmf.py:1090: ConvergenceWarning: Maximum number of iterations 500 reached. Increase it to improve convergence.\n",
      "  warnings.warn(\"Maximum number of iterations %d reached. Increase it to\"\n",
      "/Users/vinsonmccready/miniforge3/envs/tf/lib/python3.8/site-packages/sklearn/decomposition/_nmf.py:1090: ConvergenceWarning: Maximum number of iterations 500 reached. Increase it to improve convergence.\n",
      "  warnings.warn(\"Maximum number of iterations %d reached. Increase it to\"\n",
      "/Users/vinsonmccready/miniforge3/envs/tf/lib/python3.8/site-packages/sklearn/decomposition/_nmf.py:1090: ConvergenceWarning: Maximum number of iterations 500 reached. Increase it to improve convergence.\n",
      "  warnings.warn(\"Maximum number of iterations %d reached. Increase it to\"\n",
      "/Users/vinsonmccready/miniforge3/envs/tf/lib/python3.8/site-packages/sklearn/decomposition/_nmf.py:1090: ConvergenceWarning: Maximum number of iterations 500 reached. Increase it to improve convergence.\n",
      "  warnings.warn(\"Maximum number of iterations %d reached. Increase it to\"\n",
      "/Users/vinsonmccready/miniforge3/envs/tf/lib/python3.8/site-packages/sklearn/decomposition/_nmf.py:1090: ConvergenceWarning: Maximum number of iterations 500 reached. Increase it to improve convergence.\n",
      "  warnings.warn(\"Maximum number of iterations %d reached. Increase it to\"\n",
      "/Users/vinsonmccready/miniforge3/envs/tf/lib/python3.8/site-packages/sklearn/decomposition/_nmf.py:1090: ConvergenceWarning: Maximum number of iterations 500 reached. Increase it to improve convergence.\n",
      "  warnings.warn(\"Maximum number of iterations %d reached. Increase it to\"\n",
      "/Users/vinsonmccready/miniforge3/envs/tf/lib/python3.8/site-packages/sklearn/decomposition/_nmf.py:1090: ConvergenceWarning: Maximum number of iterations 500 reached. Increase it to improve convergence.\n",
      "  warnings.warn(\"Maximum number of iterations %d reached. Increase it to\"\n"
     ]
    },
    {
     "data": {
      "text/plain": [
       "Text(0, 0.5, 'Reconstruction Errror')"
      ]
     },
     "execution_count": 22,
     "metadata": {},
     "output_type": "execute_result"
    },
    {
     "data": {
      "image/png": "[encoded data removed]",
      "text/plain": [
       "<Figure size 432x288 with 1 Axes>"
      ]
     },
     "metadata": {
      "needs_background": "light"
     },
     "output_type": "display_data"
    }
   ],
   "source": [
    "from sklearn.decomposition import NMF\n",
    "\n",
    "def fit_nmf(r):\n",
    "    nmf = NMF(n_components=r, init='nndsvd', max_iter=200)\n",
    "    nmf.fit(M)\n",
    "    W = nmf.transform(M)\n",
    "    H = nmf.components_\n",
    "    return nmf.reconstruction_err_\n",
    "\n",
    "error = [fit_nmf(i) for i in range(1,10)]\n",
    "plt.plot(range(1,10), error)\n",
    "plt.xticks(range(1, 10))\n",
    "plt.xlabel('r')\n",
    "plt.ylabel('Reconstruction Errror')"
   ]
  },
  {
   "cell_type": "code",
   "execution_count": 23,
   "id": "fabulous-finnish",
   "metadata": {},
   "outputs": [
    {
     "name": "stderr",
     "output_type": "stream",
     "text": [
      "/Users/vinsonmccready/miniforge3/envs/tf/lib/python3.8/site-packages/sklearn/decomposition/_nmf.py:312: FutureWarning: The 'init' value, when 'init=None' and n_components is less than n_samples and n_features, will be changed from 'nndsvd' to 'nndsvda' in 1.1 (renaming of 0.26).\n",
      "  warnings.warn((\"The 'init' value, when 'init=None' and \"\n",
      "/Users/vinsonmccready/miniforge3/envs/tf/lib/python3.8/site-packages/sklearn/decomposition/_nmf.py:1090: ConvergenceWarning: Maximum number of iterations 200 reached. Increase it to improve convergence.\n",
      "  warnings.warn(\"Maximum number of iterations %d reached. Increase it to\"\n"
     ]
    }
   ],
   "source": [
    "nmf = NMF(n_components=3)\n",
    "nmf.fit(M)\n",
    "W = nmf.transform(M)\n",
    "H = nmf.components_"
   ]
  },
  {
   "cell_type": "code",
   "execution_count": 50,
   "id": "excess-bridal",
   "metadata": {
    "collapsed": true
   },
   "outputs": [
    {
     "data": {
      "text/plain": [
       "array([[1.04000688e-02, 1.50025091e-02, 1.75854069e-02, 2.17159273e-02,\n",
       "        1.60248521e-02, 1.60024323e-02, 1.29445837e-02, 1.47094665e-02,\n",
       "        1.22561308e-02, 1.34997141e-02, 1.70620708e-02, 1.37725334e-02,\n",
       "        1.56238629e-02, 1.56581175e-02, 1.53399196e-02, 1.71126392e-02,\n",
       "        1.62640792e-02, 1.06794518e-02, 1.66953239e-02, 1.37937153e-02,\n",
       "        1.62039215e-02, 1.30884892e-02, 1.67761349e-02, 1.18741431e-02,\n",
       "        1.56526951e-02, 1.71054731e-02, 1.56467958e-02, 2.49060726e-02,\n",
       "        2.21082876e-02, 2.62755172e-02, 2.35408741e-02, 2.16188671e-02,\n",
       "        2.52286687e-02, 1.96014659e-02, 2.79180782e-02, 3.33241861e-02,\n",
       "        2.30225546e-02, 1.78898604e-02, 2.11690551e-02, 2.01285333e-02,\n",
       "        2.28671758e-02, 1.83640594e-02, 1.93392957e-02, 1.35039179e-02,\n",
       "        1.54469866e-02, 1.82525485e-02, 2.16727729e-02, 6.43830537e-02,\n",
       "        6.22404613e-02, 5.51302666e-02, 3.18983129e-02, 3.30914134e-02,\n",
       "        3.12775858e-02, 2.90789829e-02, 3.51827409e-02, 1.61474806e-02,\n",
       "        1.66410871e-02, 1.19374166e-02, 1.96291803e-02, 1.99510184e-02,\n",
       "        2.82670229e-02, 2.60502853e-02, 2.63376731e-02, 1.79242411e-02,\n",
       "        1.64414332e-02, 2.38319537e-02, 2.30650391e-02, 2.34051469e-02,\n",
       "        1.97875546e-02, 1.98553867e-02, 2.12537956e-02, 2.42925079e-02,\n",
       "        2.32838099e-02, 2.12999698e-02, 1.98001327e-02, 2.23361601e-02,\n",
       "        2.34848358e-02, 2.23212532e-02, 2.22028914e-02, 2.16137294e-02,\n",
       "        2.10260039e-02, 5.50049573e-03, 3.24415831e-03, 3.26417945e-03,\n",
       "        2.68439180e-03, 4.27522716e-03, 2.43989795e-03, 3.02498656e-03,\n",
       "        2.92863098e-03, 2.12043146e-03, 2.21568319e-03, 2.41371239e-03,\n",
       "        2.91447387e-03, 5.94263058e-02, 5.49063889e-02, 4.67004446e-02,\n",
       "        3.84474934e-02, 4.11126029e-02, 1.46823438e-02, 6.73384529e-02,\n",
       "        2.34918203e-02, 2.34814426e-02, 2.29035836e-02, 2.22655815e-02,\n",
       "        2.22768252e-02, 1.91418989e-02, 2.05266294e-02, 6.06007826e-02,\n",
       "        2.79043562e-02, 1.08783860e-02, 1.06102806e-02, 1.09830247e-02,\n",
       "        1.13320723e-02, 1.10673997e-02, 1.16652209e-02, 1.11300789e-02,\n",
       "        1.13414891e-02, 2.46623398e-02, 1.90730819e-02, 2.92131609e-02,\n",
       "        2.75406259e-02, 3.11574718e-02, 3.13598277e-02, 3.08398323e-02,\n",
       "        3.01193994e-02, 3.17640780e-02, 1.39166164e-02, 1.43541621e-02,\n",
       "        1.77601220e-02, 2.04932748e-02, 1.98359004e-02, 1.84883325e-02,\n",
       "        1.84332202e-02, 1.68789941e-02, 1.72940700e-02, 1.89077555e-02,\n",
       "        1.32867771e-02, 1.52610223e-02, 1.19019148e-02, 1.69656264e-02,\n",
       "        2.17710202e-02, 1.90824172e-02, 2.33160699e-02, 1.70768890e-02,\n",
       "        2.49777237e-02, 7.09051720e-02, 7.07325400e-02, 4.71658309e-02,\n",
       "        4.78621172e-02, 4.35396967e-02, 7.10443508e-02, 7.27165745e-02,\n",
       "        1.09780605e-02, 1.23178558e-02, 1.20800506e-02, 1.17433013e-02,\n",
       "        2.11156384e-02, 2.13302542e-02, 3.57030466e-02, 3.03548661e-02,\n",
       "        1.32876566e-02, 1.52428046e-02, 1.49516420e-02, 4.99405257e-02,\n",
       "        2.55748515e-02, 2.56034882e-02, 2.01162238e-02, 2.28167518e-02,\n",
       "        2.10142246e-02, 2.55817688e-02, 2.08889374e-02, 2.83434874e-02,\n",
       "        3.78750467e-02, 3.10838404e-02, 2.05962326e-02, 2.84936686e-02,\n",
       "        1.99760505e-02, 2.62341011e-02, 2.18763960e-02, 1.97049278e-02,\n",
       "        2.69799841e-02, 2.16883399e-02, 3.42548954e-02, 2.25921036e-02,\n",
       "        2.68388937e-02, 2.64318890e-02, 2.18520333e-02, 1.88118473e-02,\n",
       "        3.13269689e-02, 1.71197923e-02, 2.80587999e-02, 2.17542247e-02,\n",
       "        3.35500658e-02, 2.50147440e-02, 2.62661168e-02, 2.04831893e-02,\n",
       "        2.21683294e-02, 2.41255465e-02, 2.33661951e-02, 2.53377045e-02,\n",
       "        2.11932589e-02, 2.21349787e-02, 2.54063362e-02, 2.05532364e-02,\n",
       "        2.07919620e-02, 2.34332511e-02, 2.36276711e-02, 2.51813871e-02,\n",
       "        1.45060097e-02, 1.34402438e-02, 1.04517001e+04, 1.85038192e-02,\n",
       "        2.53244115e-02, 2.17847256e-02, 2.49630366e-02, 2.22819211e-02,\n",
       "        1.96861071e-02, 2.37257531e-02, 2.73704925e-02, 2.02227538e-02,\n",
       "        1.79646571e-02, 1.39937396e-02, 2.24470405e-02, 2.27981242e-02,\n",
       "        2.55706904e-02, 1.73270920e-02, 2.62386653e-02, 5.79406398e-02,\n",
       "        5.79275505e-02, 4.19775233e-02, 7.02948028e-02, 6.32238504e-02,\n",
       "        5.11209192e-02, 6.84106786e-02, 5.64053318e-02, 5.76485290e-02,\n",
       "        7.06851467e-02, 7.45701462e-02, 5.93786034e-02, 5.38983192e-02,\n",
       "        2.07645534e-02, 1.47199167e-02, 1.54796419e-02, 1.73689098e-02,\n",
       "        1.69230032e-02, 2.34509418e-02, 2.36801285e-02],\n",
       "       [2.38267012e+00, 3.93271381e+00, 3.84552330e+00, 5.98381640e+00,\n",
       "        3.11345871e+00, 4.34333069e+00, 2.48609176e+00, 3.41920234e+00,\n",
       "        3.32635077e+00, 2.80128523e+00, 3.84955349e+00, 2.87797678e+00,\n",
       "        3.70053268e+00, 3.63815353e+00, 3.54523219e+00, 3.66980408e+00,\n",
       "        3.56646676e+00, 2.57470326e+00, 4.00226326e+00, 3.49008572e+00,\n",
       "        3.88420499e+00, 3.46864994e+00, 3.97522937e+00, 2.91112630e+00,\n",
       "        3.82730824e+00, 3.97752263e+00, 3.46497020e+00, 5.27860232e+00,\n",
       "        5.91680854e+00, 6.60074770e+00, 6.11497002e+00, 4.69577311e+00,\n",
       "        6.67237139e+00, 4.65550704e+00, 6.67305738e+00, 6.70246898e+00,\n",
       "        5.97896475e+00, 4.39913324e+00, 4.59026687e+00, 4.58832878e+00,\n",
       "        5.29299706e+00, 4.33677392e+00, 4.94238723e+00, 2.93174791e+00,\n",
       "        3.41414645e+00, 3.90974509e+00, 4.63225354e+00, 1.61333659e+01,\n",
       "        1.59407204e+01, 1.37976464e+01, 7.67925568e+00, 7.34370768e+00,\n",
       "        7.27232188e+00, 6.90677268e+00, 8.05510766e+00, 3.74711655e+00,\n",
       "        3.88793447e+00, 2.75494038e+00, 4.96240667e+00, 4.62101252e+00,\n",
       "        6.73803640e+00, 5.91978302e+00, 6.30587592e+00, 4.90427610e+00,\n",
       "        4.89655584e+00, 6.02240532e+00, 5.85879508e+00, 6.13594815e+00,\n",
       "        5.40024325e+00, 5.62090656e+00, 5.99984958e+00, 6.81159615e+00,\n",
       "        6.43827920e+00, 5.97010686e+00, 4.72848526e+00, 5.94205660e+00,\n",
       "        5.77871871e+00, 5.36423425e+00, 5.15780848e+00, 5.04839226e+00,\n",
       "        5.02706318e+00, 1.23767104e+00, 7.91236452e-01, 5.78091194e-01,\n",
       "        3.64535299e-01, 1.42010895e-01, 3.19448816e-01, 3.85506438e-01,\n",
       "        5.09730191e-01, 2.23116857e-01, 4.12417714e-01, 3.20391164e-01,\n",
       "        2.73164719e-01, 1.36780706e+01, 1.23871186e+01, 1.09484502e+01,\n",
       "        8.81747701e+00, 9.55183773e+00, 3.06199864e+00, 1.75294336e+01,\n",
       "        5.87873599e+00, 5.54988787e+00, 5.60325289e+00, 5.43569167e+00,\n",
       "        5.07232700e+00, 4.61478655e+00, 4.74133317e+00, 1.47844922e+01,\n",
       "        6.27637939e+00, 2.51867864e+00, 2.80186968e+00, 2.48639332e+00,\n",
       "        2.59262922e+00, 2.46466767e+00, 3.01596741e+00, 2.67609433e+00,\n",
       "        2.64437562e+00, 5.61488025e+00, 4.35396157e+00, 6.66614409e+00,\n",
       "        6.06453420e+00, 7.47194417e+00, 7.50787165e+00, 7.08240435e+00,\n",
       "        6.87581414e+00, 7.48956703e+00, 2.95370242e+00, 3.16050693e+00,\n",
       "        4.20713025e+00, 4.56975915e+00, 4.27170381e+00, 4.07954372e+00,\n",
       "        4.00459669e+00, 4.62428805e+00, 4.51319475e+00, 4.91559497e+00,\n",
       "        3.16281916e+00, 3.80583031e+00, 2.76089580e+00, 4.19823959e+00,\n",
       "        5.33343475e+00, 4.50082097e+00, 5.47640832e+00, 4.20939932e+00,\n",
       "        5.80887854e+00, 1.62474906e+01, 1.67234341e+01, 1.28921688e+01,\n",
       "        1.25344590e+01, 9.99034838e+00, 1.50148527e+01, 1.64998699e+01,\n",
       "        2.54387904e+00, 2.96381113e+00, 3.11503370e+00, 2.86693954e+00,\n",
       "        5.38288051e+00, 5.64734538e+00, 9.13670785e+00, 8.19417997e+00,\n",
       "        3.16955651e+00, 3.78328672e+00, 3.75346237e+00, 1.16840361e+01,\n",
       "        7.16228757e+00, 6.30757829e+00, 3.54563873e+00, 4.63179234e+00,\n",
       "        3.98601284e+00, 9.12420287e+00, 6.93603893e+00, 7.16602187e+00,\n",
       "        1.11874717e+01, 1.08129684e+01, 5.40120931e+00, 8.67605115e+00,\n",
       "        3.72047109e+00, 6.38896278e+00, 3.84870319e+00, 3.65565818e+00,\n",
       "        7.52022161e+00, 4.01549049e+00, 9.33317001e+00, 4.70695505e+00,\n",
       "        6.16363945e+00, 6.46547957e+00, 6.26799983e+00, 5.05204674e+00,\n",
       "        7.47035126e+00, 3.82058916e+00, 7.08189197e+00, 5.84820244e+00,\n",
       "        8.07896452e+00, 6.00993600e+00, 6.19835997e+00, 5.44028533e+00,\n",
       "        4.86511335e+00, 5.70329446e+00, 5.14334523e+00, 5.52044001e+00,\n",
       "        4.38573068e+00, 5.13255066e+00, 5.43082549e+00, 4.99343403e+00,\n",
       "        4.89698669e+00, 5.40880484e+00, 5.68505460e+00, 5.89339786e+00,\n",
       "        3.70912484e+00, 3.62532632e+00, 0.00000000e+00, 4.96282886e+00,\n",
       "        6.25180550e+00, 4.97130178e+00, 5.04230548e+00, 5.14142693e+00,\n",
       "        5.27547289e+00, 4.99114097e+00, 6.74192881e+00, 4.49421465e+00,\n",
       "        4.18765346e+00, 3.36913515e+00, 5.44419569e+00, 4.90051822e+00,\n",
       "        6.59423429e+00, 3.56215283e+00, 6.39083743e+00, 1.20044242e+01,\n",
       "        1.44787147e+01, 9.27703722e+00, 1.79115204e+01, 1.52230634e+01,\n",
       "        1.01012452e+01, 1.64897787e+01, 1.35180058e+01, 1.29781098e+01,\n",
       "        1.81979944e+01, 1.87519426e+01, 1.32848068e+01, 1.11818493e+01,\n",
       "        5.11802636e+00, 3.44593186e+00, 3.48172189e+00, 3.76654511e+00,\n",
       "        3.69411166e+00, 5.29333718e+00, 5.41456145e+00]])"
      ]
     },
     "metadata": {},
     "output_type": "display_data"
    }
   ],
   "source": [
    "display(H)"
   ]
  },
  {
   "cell_type": "code",
   "execution_count": 24,
   "id": "northern-round",
   "metadata": {},
   "outputs": [
    {
     "data": {
      "text/plain": [
       "4178.635839597622"
      ]
     },
     "execution_count": 24,
     "metadata": {},
     "output_type": "execute_result"
    }
   ],
   "source": [
    "nmf.reconstruction_err_"
   ]
  },
  {
   "cell_type": "code",
   "execution_count": 25,
   "id": "valid-colombia",
   "metadata": {},
   "outputs": [],
   "source": [
    "questions = X.columns.values"
   ]
  },
  {
   "cell_type": "code",
   "execution_count": null,
   "id": "australian-hybrid",
   "metadata": {},
   "outputs": [],
   "source": []
  },
  {
   "cell_type": "code",
   "execution_count": 28,
   "id": "comic-qualification",
   "metadata": {},
   "outputs": [
    {
     "name": "stdout",
     "output_type": "stream",
     "text": [
      "topic 0\n",
      "--> Q164 Q112 Q159 Q158 Q120 Q48 Q49 Q163 Q106 Q50\n",
      "please label this topic: morality\n",
      "\n",
      "topic 1\n",
      "--> Q186 Q185 Q182 Q172 Q188 Q163 Q158 Q171 Q159 Q184\n",
      "please label this topic: relationships\n",
      "\n",
      "topic 2\n",
      "--> Q178 Q177 Q180 Q181 Q190 Q191 Q194 Q179 Q189 Q192\n",
      "please label this topic: money\n",
      "\n"
     ]
    }
   ],
   "source": [
    "hand_labels = []\n",
    "for i, row in enumerate(H):\n",
    "    top_five = np.argsort(row)[::-1][:10]\n",
    "    print('topic', i)\n",
    "    print('-->', ' '.join(questions[top_five]))\n",
    "    label = input('please label this topic: ')\n",
    "    hand_labels.append(label)\n",
    "    print()"
   ]
  },
  {
   "cell_type": "code",
   "execution_count": null,
   "id": "consecutive-flavor",
   "metadata": {},
   "outputs": [],
   "source": []
  }
 ],
 "metadata": {
  "kernelspec": {
   "display_name": "Python 3",
   "language": "python",
   "name": "python3"
  },
  "language_info": {
   "codemirror_mode": {
    "name": "ipython",
    "version": 3
   },
   "file_extension": ".py",
   "mimetype": "text/x-python",
   "name": "python",
   "nbconvert_exporter": "python",
   "pygments_lexer": "ipython3",
   "version": "3.8.8"
  }
 },
 "nbformat": 4,
 "nbformat_minor": 5
}
